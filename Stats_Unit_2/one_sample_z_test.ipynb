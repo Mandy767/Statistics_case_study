{
 "cells": [
  {
   "cell_type": "markdown",
   "metadata": {},
   "source": [
    "## **One-sample z-test**\n",
    "\n",
    "\n",
    "H0 : The mean runs scored by teams in particular innings in 2023 is less than or equal to 175\n",
    "\n",
    "H1 : The mean runs scored by teams in particular innings in 2023 is greater than 175\n",
    "\n",
    "\n"
   ]
  },
  {
   "cell_type": "code",
   "execution_count": 17,
   "metadata": {},
   "outputs": [],
   "source": [
    "import pandas as pd\n",
    "import numpy as np\n",
    "import math"
   ]
  },
  {
   "cell_type": "code",
   "execution_count": 18,
   "metadata": {},
   "outputs": [
    {
     "data": {
      "text/html": [
       "<div>\n",
       "<style scoped>\n",
       "    .dataframe tbody tr th:only-of-type {\n",
       "        vertical-align: middle;\n",
       "    }\n",
       "\n",
       "    .dataframe tbody tr th {\n",
       "        vertical-align: top;\n",
       "    }\n",
       "\n",
       "    .dataframe thead th {\n",
       "        text-align: right;\n",
       "    }\n",
       "</style>\n",
       "<table border=\"1\" class=\"dataframe\">\n",
       "  <thead>\n",
       "    <tr style=\"text-align: right;\">\n",
       "      <th></th>\n",
       "      <th>Date</th>\n",
       "      <th>Innings</th>\n",
       "      <th>Team</th>\n",
       "      <th>Runs Scored</th>\n",
       "    </tr>\n",
       "  </thead>\n",
       "  <tbody>\n",
       "    <tr>\n",
       "      <th>0</th>\n",
       "      <td>2023-03-31</td>\n",
       "      <td>1</td>\n",
       "      <td>Chennai Super Kings</td>\n",
       "      <td>178</td>\n",
       "    </tr>\n",
       "    <tr>\n",
       "      <th>1</th>\n",
       "      <td>2023-03-31</td>\n",
       "      <td>2</td>\n",
       "      <td>Gujarat Titans</td>\n",
       "      <td>182</td>\n",
       "    </tr>\n",
       "    <tr>\n",
       "      <th>2</th>\n",
       "      <td>2023-04-01</td>\n",
       "      <td>1</td>\n",
       "      <td>Punjab Kings</td>\n",
       "      <td>191</td>\n",
       "    </tr>\n",
       "    <tr>\n",
       "      <th>3</th>\n",
       "      <td>2023-04-01</td>\n",
       "      <td>1</td>\n",
       "      <td>Lucknow Super Giants</td>\n",
       "      <td>193</td>\n",
       "    </tr>\n",
       "    <tr>\n",
       "      <th>4</th>\n",
       "      <td>2023-04-01</td>\n",
       "      <td>2</td>\n",
       "      <td>Kolkata Knight Riders</td>\n",
       "      <td>146</td>\n",
       "    </tr>\n",
       "  </tbody>\n",
       "</table>\n",
       "</div>"
      ],
      "text/plain": [
       "         Date  Innings                   Team  Runs Scored\n",
       "0  2023-03-31        1    Chennai Super Kings          178\n",
       "1  2023-03-31        2         Gujarat Titans          182\n",
       "2  2023-04-01        1           Punjab Kings          191\n",
       "3  2023-04-01        1   Lucknow Super Giants          193\n",
       "4  2023-04-01        2  Kolkata Knight Riders          146"
      ]
     },
     "execution_count": 18,
     "metadata": {},
     "output_type": "execute_result"
    }
   ],
   "source": [
    "data=pd.read_csv('./data/runs_scored_by_innings_2023.csv')\n",
    "data.head()"
   ]
  },
  {
   "cell_type": "code",
   "execution_count": 19,
   "metadata": {},
   "outputs": [
    {
     "name": "stdout",
     "output_type": "stream",
     "text": [
      "sample size :  60\n",
      "sample standard deviation 28.706542034100092\n",
      "sample mean 171.96666666666667\n"
     ]
    }
   ],
   "source": [
    "\n",
    "\n",
    "runs_array=data['Runs Scored'][:60]  # took a sample of 60 innings\n",
    "\n",
    "print(\"sample size : \",len(runs_array))\n",
    "\n",
    "n=len(runs_array)\n",
    "\n",
    "population_mean=175\n",
    "\n",
    "mean = np.mean(runs_array)\n",
    "std_dev = np.std(runs_array)\n",
    "\n",
    "\n",
    "print(\"sample standard deviation\",std_dev)\n",
    "print(\"sample mean\",mean)"
   ]
  },
  {
   "cell_type": "code",
   "execution_count": 20,
   "metadata": {},
   "outputs": [
    {
     "name": "stdout",
     "output_type": "stream",
     "text": [
      "z cal :  -0.8184928348068174\n",
      "Accept H0\n"
     ]
    }
   ],
   "source": [
    "z_tab=2.576     # alpha=0.01  one-tailed test\n",
    "\n",
    "\n",
    "\n",
    "z_cal=(mean-population_mean)/(std_dev/math.sqrt(n))\n",
    "\n",
    "print(\"z cal : \",z_cal)\n",
    "\n",
    "if(abs(z_cal)>z_tab):\n",
    "\n",
    "    print('Reject H0')\n",
    "else:\n",
    "    print('Accept H0')\n"
   ]
  },
  {
   "cell_type": "markdown",
   "metadata": {},
   "source": [
    "99% confidence interval"
   ]
  },
  {
   "cell_type": "code",
   "execution_count": 21,
   "metadata": {},
   "outputs": [
    {
     "name": "stdout",
     "output_type": "stream",
     "text": [
      "162.42001416785658 < mu < 181.51331916547676\n"
     ]
    }
   ],
   "source": [
    "lower_limit= mean-(z_tab*(std_dev/math.sqrt(n)))\n",
    "upper_limit= mean+(z_tab*(std_dev/math.sqrt(n)))\n",
    "\n",
    "\n",
    "print(lower_limit,\"< mu <\",upper_limit)"
   ]
  }
 ],
 "metadata": {
  "kernelspec": {
   "display_name": "Python 3",
   "language": "python",
   "name": "python3"
  },
  "language_info": {
   "codemirror_mode": {
    "name": "ipython",
    "version": 3
   },
   "file_extension": ".py",
   "mimetype": "text/x-python",
   "name": "python",
   "nbconvert_exporter": "python",
   "pygments_lexer": "ipython3",
   "version": "3.10.5"
  },
  "orig_nbformat": 4
 },
 "nbformat": 4,
 "nbformat_minor": 2
}
