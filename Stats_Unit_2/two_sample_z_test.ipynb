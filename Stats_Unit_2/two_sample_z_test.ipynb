{
 "cells": [
  {
   "cell_type": "markdown",
   "metadata": {},
   "source": [
    "## **Two sample - Z-test (samples from different populations)**\n",
    "\n",
    "H0 : There is no significant difference between the mean runs scored by teams in particular innings in season 2023 and 2022\n",
    "\n",
    "H1 : There is significant difference between the mean runs scored by teams in particular innings in season 2023 and 2022\n",
    "\n",
    "alpha = 1% . finding 99% confidence interval"
   ]
  },
  {
   "cell_type": "code",
   "execution_count": 19,
   "metadata": {},
   "outputs": [],
   "source": [
    "import pandas as pd\n",
    "import numpy as np\n",
    "import math"
   ]
  },
  {
   "cell_type": "code",
   "execution_count": 20,
   "metadata": {},
   "outputs": [],
   "source": [
    "data1=pd.read_csv('./data/runs_scored_by_innings_2022.csv')\n",
    "data2=pd.read_csv('./data/runs_scored_by_innings_2023.csv')"
   ]
  },
  {
   "cell_type": "code",
   "execution_count": 21,
   "metadata": {},
   "outputs": [
    {
     "name": "stdout",
     "output_type": "stream",
     "text": [
      "60\n",
      "80\n"
     ]
    }
   ],
   "source": [
    "sample_2022=data1['Runs Scored'][:60]\n",
    "sample_2023=data2['Runs Scored'][:80]\n",
    "\n",
    "n1=len(sample_2022)\n",
    "\n",
    "n2=len(sample_2023)\n",
    "\n",
    "\n",
    "print(n1)\n",
    "print(n2)\n"
   ]
  },
  {
   "cell_type": "code",
   "execution_count": 22,
   "metadata": {},
   "outputs": [
    {
     "name": "stdout",
     "output_type": "stream",
     "text": [
      "n1 =  60\n",
      "n2 =  80\n",
      "x1 =  171.63333333333333\n",
      "x2 =  175.4\n",
      "s1 =  23.920679105930265\n",
      "s2 =  29.63975371017782\n",
      "0.8255247146617565\n"
     ]
    }
   ],
   "source": [
    "x1=np.mean(sample_2022)\n",
    "x2=np.mean(sample_2023)\n",
    "\n",
    "s1=np.std(sample_2022)\n",
    "s2=np.std(sample_2023)\n",
    "\n",
    "\n",
    "print(\"n1 = \",n1)\n",
    "print(\"n2 = \",n2)\n",
    "print(\"x1 = \",x1)\n",
    "print(\"x2 = \",x2)\n",
    "print(\"s1 = \",s1)\n",
    "print(\"s2 = \",s2)\n",
    "\n",
    "Z_calculated=abs(x1-x2)/math.sqrt((s1**2/(n1-1))+(s2**2/(n2-1)))\n",
    "\n",
    "print(Z_calculated)"
   ]
  },
  {
   "cell_type": "code",
   "execution_count": 23,
   "metadata": {},
   "outputs": [
    {
     "name": "stdout",
     "output_type": "stream",
     "text": [
      "Accept Ho \n"
     ]
    }
   ],
   "source": [
    "Z_tabulated=2.576  #Z tabulated from table for alpha=1% and 2 tail test\n",
    "\n",
    "if Z_calculated<=Z_tabulated:\n",
    "  print(\"Accept Ho \")\n",
    "else:\n",
    "  print(\"Reject Ho and Accept H1 \")"
   ]
  },
  {
   "cell_type": "markdown",
   "metadata": {},
   "source": [
    "99% CI"
   ]
  },
  {
   "cell_type": "code",
   "execution_count": 24,
   "metadata": {},
   "outputs": [
    {
     "name": "stdout",
     "output_type": "stream",
     "text": [
      "Confidence interval is:\n",
      "-7.986989112505196  to  15.520322445838556\n"
     ]
    }
   ],
   "source": [
    "print(\"Confidence interval is:\")\n",
    "print(abs(x1-x2)-(Z_tabulated*math.sqrt((s1**2/(n1-1))+(s2**2/(n2-1)))),\" to \",abs(x1-x2)+(Z_tabulated*math.sqrt((s1**2/(n1-1))+(s2**2/(n2-1)))))"
   ]
  }
 ],
 "metadata": {
  "kernelspec": {
   "display_name": "Python 3",
   "language": "python",
   "name": "python3"
  },
  "language_info": {
   "codemirror_mode": {
    "name": "ipython",
    "version": 3
   },
   "file_extension": ".py",
   "mimetype": "text/x-python",
   "name": "python",
   "nbconvert_exporter": "python",
   "pygments_lexer": "ipython3",
   "version": "3.10.5"
  },
  "orig_nbformat": 4
 },
 "nbformat": 4,
 "nbformat_minor": 2
}
