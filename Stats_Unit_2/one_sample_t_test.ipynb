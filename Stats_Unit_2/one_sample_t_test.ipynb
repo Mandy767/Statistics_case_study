{
 "cells": [
  {
   "cell_type": "markdown",
   "metadata": {},
   "source": [
    "## **one-sample t-test**\n",
    "\n",
    "H0 : Average runs scored by RCB in seasons from 2007-2023 is equal to 2200\n",
    "\n",
    "H1 : Average runs scored by RCB in seasons from 2007-2023 is not equal to 2200\n",
    "\n",
    "n=16  alpha=5%  two-tailed test"
   ]
  },
  {
   "cell_type": "code",
   "execution_count": 19,
   "metadata": {},
   "outputs": [],
   "source": [
    "import pandas as pd\n",
    "import numpy as np\n"
   ]
  },
  {
   "cell_type": "code",
   "execution_count": 20,
   "metadata": {},
   "outputs": [
    {
     "data": {
      "text/html": [
       "<div>\n",
       "<style scoped>\n",
       "    .dataframe tbody tr th:only-of-type {\n",
       "        vertical-align: middle;\n",
       "    }\n",
       "\n",
       "    .dataframe tbody tr th {\n",
       "        vertical-align: top;\n",
       "    }\n",
       "\n",
       "    .dataframe thead th {\n",
       "        text-align: right;\n",
       "    }\n",
       "</style>\n",
       "<table border=\"1\" class=\"dataframe\">\n",
       "  <thead>\n",
       "    <tr style=\"text-align: right;\">\n",
       "      <th></th>\n",
       "      <th>Season</th>\n",
       "      <th>Team</th>\n",
       "      <th>Total Runs</th>\n",
       "    </tr>\n",
       "  </thead>\n",
       "  <tbody>\n",
       "    <tr>\n",
       "      <th>0</th>\n",
       "      <td>2007/08</td>\n",
       "      <td>Royal Challengers Bangalore</td>\n",
       "      <td>1983</td>\n",
       "    </tr>\n",
       "    <tr>\n",
       "      <th>1</th>\n",
       "      <td>2007/08</td>\n",
       "      <td>Mumbai Indians</td>\n",
       "      <td>2080</td>\n",
       "    </tr>\n",
       "    <tr>\n",
       "      <th>2</th>\n",
       "      <td>2009</td>\n",
       "      <td>Royal Challengers Bangalore</td>\n",
       "      <td>2280</td>\n",
       "    </tr>\n",
       "    <tr>\n",
       "      <th>3</th>\n",
       "      <td>2009</td>\n",
       "      <td>Mumbai Indians</td>\n",
       "      <td>1897</td>\n",
       "    </tr>\n",
       "    <tr>\n",
       "      <th>4</th>\n",
       "      <td>2009/10</td>\n",
       "      <td>Royal Challengers Bangalore</td>\n",
       "      <td>2401</td>\n",
       "    </tr>\n",
       "  </tbody>\n",
       "</table>\n",
       "</div>"
      ],
      "text/plain": [
       "    Season                         Team  Total Runs\n",
       "0  2007/08  Royal Challengers Bangalore        1983\n",
       "1  2007/08               Mumbai Indians        2080\n",
       "2     2009  Royal Challengers Bangalore        2280\n",
       "3     2009               Mumbai Indians        1897\n",
       "4  2009/10  Royal Challengers Bangalore        2401"
      ]
     },
     "execution_count": 20,
     "metadata": {},
     "output_type": "execute_result"
    }
   ],
   "source": [
    "data=pd.read_csv('./data/runs_by_season_and_team.csv')\n",
    "data.head()"
   ]
  },
  {
   "cell_type": "code",
   "execution_count": 21,
   "metadata": {},
   "outputs": [
    {
     "name": "stdout",
     "output_type": "stream",
     "text": [
      "16\n",
      "standard deviation 260.2845798352257\n",
      "mean 2355.75\n"
     ]
    }
   ],
   "source": [
    "rcb_scores = data[data['Team'] == 'Royal Challengers Bangalore']['Total Runs']\n",
    "n=16\n",
    "population_mean=2200\n",
    "print(len(rcb_scores))\n",
    "\n",
    "mean = np.mean(rcb_scores)  #sample mean\n",
    "std_dev = np.std(rcb_scores) #sample standard deviation\n",
    "\n",
    "\n",
    "print(\"standard deviation\",std_dev)\n",
    "print(\"mean\",mean)\n"
   ]
  },
  {
   "cell_type": "code",
   "execution_count": 22,
   "metadata": {},
   "outputs": [
    {
     "name": "stdout",
     "output_type": "stream",
     "text": [
      "2.3175293617227513\n"
     ]
    }
   ],
   "source": [
    "import math\n",
    "t_calculated=abs(mean-population_mean)/(std_dev/math.sqrt(n-1))\n",
    "print(t_calculated)"
   ]
  },
  {
   "cell_type": "code",
   "execution_count": 23,
   "metadata": {},
   "outputs": [
    {
     "name": "stdout",
     "output_type": "stream",
     "text": [
      "Reject Ho\n"
     ]
    }
   ],
   "source": [
    "t_tabulated=2.13    # t_tab for alpha=5% and df=(n-1)=(16-1)=15 is 2.13\n",
    "\n",
    "if t_calculated<=t_tabulated:\n",
    "  print(\"Accept Ho \")\n",
    "else:\n",
    "  print(\"Reject Ho\")"
   ]
  },
  {
   "cell_type": "markdown",
   "metadata": {},
   "source": [
    "95% confidence interval"
   ]
  },
  {
   "cell_type": "code",
   "execution_count": 24,
   "metadata": {},
   "outputs": [
    {
     "name": "stdout",
     "output_type": "stream",
     "text": [
      "Confidence interval is:\n",
      "2212.602946297348  to  2498.897053702652\n"
     ]
    }
   ],
   "source": [
    "print(\"Confidence interval is:\")\n",
    "print(mean-(t_tabulated*(std_dev/math.sqrt(n-1))),\" to \",mean+(t_tabulated*(std_dev/math.sqrt(n-1))))"
   ]
  }
 ],
 "metadata": {
  "kernelspec": {
   "display_name": "Python 3",
   "language": "python",
   "name": "python3"
  },
  "language_info": {
   "codemirror_mode": {
    "name": "ipython",
    "version": 3
   },
   "file_extension": ".py",
   "mimetype": "text/x-python",
   "name": "python",
   "nbconvert_exporter": "python",
   "pygments_lexer": "ipython3",
   "version": "3.10.5"
  },
  "orig_nbformat": 4
 },
 "nbformat": 4,
 "nbformat_minor": 2
}
