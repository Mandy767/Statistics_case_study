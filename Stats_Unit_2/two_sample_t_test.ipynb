{
 "cells": [
  {
   "cell_type": "markdown",
   "metadata": {},
   "source": [
    "## **two-sample t-test**\n",
    "\n",
    "H0 : There is no significant difference between the average runs scored by RCB and MI in seasons from 2007-2023\n",
    "\n",
    "H1 : There is significant difference between the average runs scored by RCB and MI in seasons from 2007-2023\n",
    "\n",
    "### alpha = 5% . finding 95% confidence interval"
   ]
  },
  {
   "cell_type": "code",
   "execution_count": 21,
   "metadata": {},
   "outputs": [],
   "source": [
    "import pandas as pd\n",
    "import numpy as np\n",
    "import math"
   ]
  },
  {
   "cell_type": "code",
   "execution_count": 22,
   "metadata": {},
   "outputs": [],
   "source": [
    "data=pd.read_csv('./data/runs_by_season_and_team.csv')\n",
    "rcb_scores = data[data['Team'] == 'Royal Challengers Bangalore']['Total Runs']\n",
    "mi_scores = data[data['Team'] == 'Mumbai Indians']['Total Runs']\n",
    "\n",
    "n1=len(rcb_scores)\n",
    "n2=len(mi_scores)\n"
   ]
  },
  {
   "cell_type": "markdown",
   "metadata": {},
   "source": [
    "different populations"
   ]
  },
  {
   "cell_type": "code",
   "execution_count": 23,
   "metadata": {},
   "outputs": [
    {
     "name": "stdout",
     "output_type": "stream",
     "text": [
      "n1 =  16\n",
      "n2 =  16\n",
      "x1 =  2355.75\n",
      "x2 =  2475.5\n",
      "s1 =  260.2845798352257\n",
      "s2 =  321.49358469493603\n",
      "t calculated is : 1.1212134380988528\n"
     ]
    }
   ],
   "source": [
    "x1=np.mean(rcb_scores)\n",
    "x2=np.mean(mi_scores)\n",
    "\n",
    "s1=np.std(rcb_scores)\n",
    "s2=np.std(mi_scores)\n",
    "\n",
    "\n",
    "print(\"n1 = \",n1)\n",
    "print(\"n2 = \",n2)\n",
    "print(\"x1 = \",x1)\n",
    "print(\"x2 = \",x2)\n",
    "print(\"s1 = \",s1)\n",
    "print(\"s2 = \",s2)\n",
    "\n",
    "\n",
    "t_calculated=abs(x1-x2)/math.sqrt(((s1**2)/(n1-1))+((s2**2)/(n2-1)))\n",
    "\n",
    "print(\"t calculated is :\" ,t_calculated)"
   ]
  },
  {
   "cell_type": "code",
   "execution_count": 24,
   "metadata": {},
   "outputs": [
    {
     "name": "stdout",
     "output_type": "stream",
     "text": [
      "Accept Ho\n"
     ]
    }
   ],
   "source": [
    "t_tabulated=2.13   # t_tab for alpha=5% and df=(n-1)=(16-1)=15 is 2.13\n",
    "\n",
    "if t_calculated<=t_tabulated:\n",
    "  print(\"Accept Ho\")\n",
    "else:\n",
    "  print(\"Reject Ho and Accept h1 \")\n"
   ]
  },
  {
   "cell_type": "markdown",
   "metadata": {},
   "source": [
    "finding 95% Confidence interval"
   ]
  },
  {
   "cell_type": "code",
   "execution_count": 25,
   "metadata": {},
   "outputs": [
    {
     "name": "stdout",
     "output_type": "stream",
     "text": [
      "Confidence interval is:\n",
      "-107.742367940663  to  347.24236794066303\n"
     ]
    }
   ],
   "source": [
    "print(\"Confidence interval is:\")\n",
    "print(abs(x1-x2)-(t_tabulated*math.sqrt(((s1**2)/(n1-1))+((s2**2)/(n2-1)))),\" to \",abs(x1-x2)+(t_tabulated*(math.sqrt(((s1**2)/(n1-1))+((s2**2)/(n2-1))))))\n"
   ]
  }
 ],
 "metadata": {
  "kernelspec": {
   "display_name": "Python 3",
   "language": "python",
   "name": "python3"
  },
  "language_info": {
   "codemirror_mode": {
    "name": "ipython",
    "version": 3
   },
   "file_extension": ".py",
   "mimetype": "text/x-python",
   "name": "python",
   "nbconvert_exporter": "python",
   "pygments_lexer": "ipython3",
   "version": "3.10.5"
  },
  "orig_nbformat": 4
 },
 "nbformat": 4,
 "nbformat_minor": 2
}
