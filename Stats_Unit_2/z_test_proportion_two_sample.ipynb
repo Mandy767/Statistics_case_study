{
 "cells": [
  {
   "cell_type": "markdown",
   "metadata": {},
   "source": [
    "## **Proportion Test - two Sample**\n",
    "\n",
    "H0 -> There is no significant difference between the proportions of matches won by Mumbai Indians and Royal Challengers Bangalore throughout all seasons \n",
    "\n",
    "H1 -> There is significant difference between the proportions of matches won by Mumbai Indians and Royal Challengers Bangalore throughout all seasons\n",
    "\n",
    "Total Matches Mumbai Indians: 249, Wins: 190, Losses: 57 \n",
    "Total Matches Royal Challengers Banglore : 241, Wins: 167, Losses: 72\n",
    "\n",
    "alpha = 5% . finding 95% confidence interval"
   ]
  },
  {
   "cell_type": "code",
   "execution_count": 13,
   "metadata": {},
   "outputs": [],
   "source": [
    "import pandas as pd\n",
    "import numpy as np\n",
    "import math\n",
    "import random"
   ]
  },
  {
   "cell_type": "code",
   "execution_count": 14,
   "metadata": {},
   "outputs": [],
   "source": [
    "data1=pd.read_csv('./data/mumbai_indians_matches.csv')\n",
    "data2=pd.read_csv('./data/RCB_matches.csv')\n",
    "\n",
    "\n",
    "mi_runs=data1['Result']\n",
    "rcb_runs=data2['Result']\n"
   ]
  },
  {
   "cell_type": "code",
   "execution_count": 15,
   "metadata": {},
   "outputs": [
    {
     "name": "stdout",
     "output_type": "stream",
     "text": [
      "n1 =  100\n",
      "n2 =  200\n",
      "p1 =  0.72\n",
      "p2 =  0.685\n",
      "p dash =  0.6966666666666667\n",
      "q dash =  0.30333333333333334\n",
      "Z calculated =  0.6216555715293981\n"
     ]
    }
   ],
   "source": [
    "mi_sample = random.sample(list(mi_runs), 100)\n",
    "rcb_sample = random.sample(list(rcb_runs), 200)\n",
    "\n",
    "\n",
    "# mi win count in sample\n",
    "mi_win_count=mi_sample.count('Won')\n",
    "\n",
    "\n",
    "#rcb win count in sample\n",
    "rcb_win_count=rcb_sample.count('Won')\n",
    "\n",
    "\n",
    "n1=len(mi_sample)\n",
    "n2=len(rcb_sample)\n",
    "\n",
    "p1=mi_win_count/n1\n",
    "p2=rcb_win_count/n2\n",
    "\n",
    "p_dash=(mi_win_count+rcb_win_count)/(n1+n2)\n",
    "q_dash=1-p_dash\n",
    "\n",
    "Z_calculated=abs(p1-p2)/math.sqrt(p_dash*q_dash*((1/n1)+(1/n2)))\n",
    "\n",
    "print(\"n1 = \",n1)\n",
    "print(\"n2 = \",n2)\n",
    "print(\"p1 = \",p1)\n",
    "print(\"p2 = \",p2)\n",
    "print(\"p dash = \",p_dash)\n",
    "print(\"q dash = \",q_dash)\n",
    "\n",
    "print(\"Z calculated = \",Z_calculated)"
   ]
  },
  {
   "cell_type": "code",
   "execution_count": 16,
   "metadata": {},
   "outputs": [
    {
     "name": "stdout",
     "output_type": "stream",
     "text": [
      "Accept Ho\n"
     ]
    }
   ],
   "source": [
    "#Z tabulated at alpha=5% and 2 tail testing is 1.960\n",
    "\n",
    "Z_tabulated=1.960\n",
    "\n",
    "if Z_calculated<=Z_tabulated:\n",
    "  print(\"Accept Ho\")\n",
    "else:\n",
    "  print(\"Reject Ho and  Accept H1 \")"
   ]
  },
  {
   "cell_type": "code",
   "execution_count": 17,
   "metadata": {},
   "outputs": [
    {
     "name": "stdout",
     "output_type": "stream",
     "text": [
      "the 95% confidence interval is: \n",
      "-0.07535049493923147  to  0.1453504949392313\n"
     ]
    }
   ],
   "source": [
    "print(\"the 95% confidence interval is: \")\n",
    "\n",
    "print(abs(p1-p2)-(Z_tabulated*math.sqrt(p_dash*q_dash*((1/n1)+(1/n2)))),\" to \",abs(p1-p2)+(Z_tabulated*math.sqrt(p_dash*q_dash*((1/n1)+(1/n2)))))"
   ]
  },
  {
   "cell_type": "code",
   "execution_count": null,
   "metadata": {},
   "outputs": [],
   "source": []
  }
 ],
 "metadata": {
  "kernelspec": {
   "display_name": "Python 3",
   "language": "python",
   "name": "python3"
  },
  "language_info": {
   "codemirror_mode": {
    "name": "ipython",
    "version": 3
   },
   "file_extension": ".py",
   "mimetype": "text/x-python",
   "name": "python",
   "nbconvert_exporter": "python",
   "pygments_lexer": "ipython3",
   "version": "3.10.5"
  }
 },
 "nbformat": 4,
 "nbformat_minor": 2
}
