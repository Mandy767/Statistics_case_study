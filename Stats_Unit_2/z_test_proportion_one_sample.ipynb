{
 "cells": [
  {
   "cell_type": "markdown",
   "metadata": {},
   "source": [
    "## **Proportion Test - 1 Sample**\n",
    "\n",
    "H0 -> 76% of matches where won by MI throughout all seasons\n",
    "\n",
    "H1 -> 76% of matches where not won by MI throughout all seasons\n",
    "\n",
    "Total Matches: 249, Wins: 190, Losses: 57 \n",
    "\n",
    "alpha = 5% . finding 95% confidence interval"
   ]
  },
  {
   "cell_type": "code",
   "execution_count": 16,
   "metadata": {},
   "outputs": [
    {
     "name": "stdout",
     "output_type": "stream",
     "text": [
      "100\n"
     ]
    }
   ],
   "source": [
    "import pandas as pd\n",
    "import numpy as np\n",
    "import random\n",
    "\n",
    "\n",
    "data = pd.read_csv('./data/mumbai_indians_matches.csv')\n",
    "data.drop(columns='Innings')\n",
    "\n",
    "\n",
    "win_loss_array=data['Result']\n",
    "\n",
    "sample = random.sample(list(win_loss_array), 100)\n",
    "\n",
    "sample_size=len(sample)\n",
    "\n",
    "print(sample_size)\n",
    "\n",
    "win_count=sample.count('Won')"
   ]
  },
  {
   "cell_type": "code",
   "execution_count": 17,
   "metadata": {},
   "outputs": [
    {
     "name": "stdout",
     "output_type": "stream",
     "text": [
      "0.7\n",
      "1.404878717372542\n"
     ]
    }
   ],
   "source": [
    "import math\n",
    "population_prop=0.76\n",
    "\n",
    "sample_prop=win_count/sample_size\n",
    "\n",
    "print(sample_prop)\n",
    "\n",
    "Z_calculated=abs(population_prop-sample_prop)/(math.sqrt(population_prop*(1-population_prop)/sample_size))\n",
    "\n",
    "print(Z_calculated)\n"
   ]
  },
  {
   "cell_type": "code",
   "execution_count": 18,
   "metadata": {},
   "outputs": [
    {
     "name": "stdout",
     "output_type": "stream",
     "text": [
      "Accept Ho\n"
     ]
    }
   ],
   "source": [
    "\n",
    "Z_tabulated=1.960\n",
    "\n",
    "if Z_calculated<=Z_tabulated:\n",
    "  print(\"Accept Ho\")\n",
    "else:\n",
    "  print(\"Reject Ho and  Accept H1\")"
   ]
  },
  {
   "cell_type": "code",
   "execution_count": 19,
   "metadata": {},
   "outputs": [
    {
     "name": "stdout",
     "output_type": "stream",
     "text": [
      "the 95% confidence interval is: \n",
      "0.6162917065040745  to  0.7837082934959254\n"
     ]
    }
   ],
   "source": [
    "print(\"the 95% confidence interval is: \")\n",
    "\n",
    "print(sample_prop-(Z_tabulated*math.sqrt(population_prop*(1-population_prop)/sample_size)),\" to \",sample_prop+(Z_tabulated*math.sqrt(population_prop*(1-population_prop)/sample_size)))"
   ]
  },
  {
   "cell_type": "code",
   "execution_count": null,
   "metadata": {},
   "outputs": [],
   "source": []
  }
 ],
 "metadata": {
  "kernelspec": {
   "display_name": "Python 3",
   "language": "python",
   "name": "python3"
  },
  "language_info": {
   "codemirror_mode": {
    "name": "ipython",
    "version": 3
   },
   "file_extension": ".py",
   "mimetype": "text/x-python",
   "name": "python",
   "nbconvert_exporter": "python",
   "pygments_lexer": "ipython3",
   "version": "3.10.5"
  }
 },
 "nbformat": 4,
 "nbformat_minor": 2
}
