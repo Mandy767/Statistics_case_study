{
 "cells": [
  {
   "cell_type": "markdown",
   "metadata": {},
   "source": [
    "## **Chi-square test for Homogenity**\n",
    "\n",
    "out of 8 wicket types in the year 2022 and 2023 are the proportion of the number of times caught,LBW,bowled etc same or not .\n",
    "\n",
    "alpha=10%\n",
    "\n",
    "Ho: proportions are same\n",
    "\n",
    "H1: proportions are not same"
   ]
  },
  {
   "cell_type": "code",
   "execution_count": 9,
   "metadata": {},
   "outputs": [
    {
     "name": "stdout",
     "output_type": "stream",
     "text": [
      "   Year  caught  bowled  run out  lbw  retired hurt  stumped  \\\n",
      "0  2022     625     123       61   57             1       18   \n",
      "1  2023     600     145       55   65             2       20   \n",
      "\n",
      "   caught and bowled  hit wicket  \n",
      "0                 25           1  \n",
      "1                 26           1  \n"
     ]
    }
   ],
   "source": [
    "import pandas as pd\n",
    "\n",
    "data = pd.read_csv('./data/wickets_type_2022_2023.csv')\n",
    "\n",
    "#data i have to change\n",
    "print(data)"
   ]
  },
  {
   "cell_type": "code",
   "execution_count": 10,
   "metadata": {},
   "outputs": [
    {
     "name": "stdout",
     "output_type": "stream",
     "text": [
      "[[625 123  61  57   1  18  25   1]\n",
      " [600 145  55  65   2  20  26   1]]\n"
     ]
    }
   ],
   "source": [
    "table = data.iloc[:, 1:].values\n",
    "print(table)"
   ]
  },
  {
   "cell_type": "code",
   "execution_count": 11,
   "metadata": {},
   "outputs": [
    {
     "name": "stdout",
     "output_type": "stream",
     "text": [
      "[[611.4931506849315, 133.77972602739726, 57.904657534246574, 60.89972602739726, 1.4975342465753425, 18.96876712328767, 25.45808219178082, 0.9983561643835617], [613.5068493150685, 134.22027397260274, 58.095342465753426, 61.10027397260274, 1.5024657534246575, 19.03123287671233, 25.54191780821918, 1.0016438356164383]]\n",
      "chi_sq_cal : 3.604391789694425\n"
     ]
    }
   ],
   "source": [
    "N=sum(sum(row) for row in table)\n",
    "expected_values = [[0,0,0,0,0,0,0,0],[0,0,0,0,0,0,0,0]]\n",
    "\n",
    "for i in range(2):  # Iterate through rows\n",
    "    row_sum = sum(table[i])  # Calculate row sum\n",
    "    for j in range(8):  # Iterate through columns\n",
    "        col_sum = sum(row[j] for row in table)  # Calculate column sum\n",
    "        expected_values[i][j] = (row_sum * col_sum) / N  # Compute expected value\n",
    "\n",
    "print(expected_values)\n",
    "chi_sq_cal=0\n",
    "for i in range(2):\n",
    "   for j in range(8):\n",
    "      chi_sq_cal=chi_sq_cal+((table[i][j]-expected_values[i][j])**2/expected_values[i][j])\n",
    "\n",
    "\n",
    "print(f'chi_sq_cal : {chi_sq_cal}')  "
   ]
  },
  {
   "cell_type": "code",
   "execution_count": 12,
   "metadata": {},
   "outputs": [
    {
     "name": "stdout",
     "output_type": "stream",
     "text": [
      "accept Ho\n"
     ]
    }
   ],
   "source": [
    "chi_sq_tab=12.017           #R=2 , C=8 d.f = 1 x 7 =7 at alpha = 10% chi square  tabulated= 12.017\t\n",
    "\n",
    "if chi_sq_cal<=chi_sq_tab:\n",
    "  print(\"accept Ho\")\n",
    "else:\n",
    "  print(\"reject Ho, accept H1\")"
   ]
  }
 ],
 "metadata": {
  "kernelspec": {
   "display_name": "Python 3",
   "language": "python",
   "name": "python3"
  },
  "language_info": {
   "codemirror_mode": {
    "name": "ipython",
    "version": 3
   },
   "file_extension": ".py",
   "mimetype": "text/x-python",
   "name": "python",
   "nbconvert_exporter": "python",
   "pygments_lexer": "ipython3",
   "version": "3.10.5"
  }
 },
 "nbformat": 4,
 "nbformat_minor": 2
}
