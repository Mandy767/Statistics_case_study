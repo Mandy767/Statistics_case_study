{
 "cells": [
  {
   "cell_type": "markdown",
   "metadata": {},
   "source": [
    "## **2x2 Contigency**\n",
    "Problem Statement:\n",
    "Analyze the relationship between teams' wins and losses in cricket matches based on the data provided in the 'matches_won.csv' file. Specifically, determine whether there is a significant association between the teams' performance (wins and losses) in the dataset.\n",
    "\n",
    "Hypothesis:\n",
    "\n",
    "Ho: proportions are same\n",
    "\n",
    "H1: proportions are not same"
   ]
  },
  {
   "cell_type": "code",
   "execution_count": 4,
   "metadata": {},
   "outputs": [
    {
     "name": "stdout",
     "output_type": "stream",
     "text": [
      "                          Team  Win  lose\n",
      "0  Royal Challengers Bangalore  121   113\n",
      "1               Mumbai Indians  140   107\n"
     ]
    }
   ],
   "source": [
    "import pandas as pd\n",
    "\n",
    "data = pd.read_csv('./data/matches_won.csv')\n",
    "print(data)\n",
    "\n"
   ]
  },
  {
   "cell_type": "markdown",
   "metadata": {},
   "source": [
    "### Perform Chi-Squared Test for Independence\n",
    "\n",
    "The given data:\n",
    "\n",
    "- Royal Challengers Bangalore (RCB): Wins = 121, Losses = 113\n",
    "- Mumbai Indians (MI): Wins = 140, Losses = 107\n",
    "\n",
    "Let's construct the 2x2 contingency table:\n",
    "\n",
    "|          | Win   | Lose  | Total |\n",
    "|----------|-------|-------|-------|\n",
    "| RCB      | 121   | 113   | 234   |\n",
    "| MI       | 140   | 107   | 247   |\n",
    "| Total    | 261   | 220   | 481   |\n",
    "\n"
   ]
  },
  {
   "cell_type": "code",
   "execution_count": 5,
   "metadata": {},
   "outputs": [
    {
     "name": "stdout",
     "output_type": "stream",
     "text": [
      "[[121 113]\n",
      " [140 107]]\n"
     ]
    }
   ],
   "source": [
    "contingency_table_2x2 = data.iloc[:, 1:].values\n",
    "print(contingency_table_2x2)\n"
   ]
  },
  {
   "cell_type": "code",
   "execution_count": 12,
   "metadata": {},
   "outputs": [
    {
     "name": "stdout",
     "output_type": "stream",
     "text": [
      "1.1963006247186525\n",
      "[[126.97297297297297, 107.02702702702703], [134.02702702702703, 112.97297297297297]]\n",
      "accept Ho , therefore the proportions are equal\n"
     ]
    }
   ],
   "source": [
    "\n",
    "N=contingency_table_2x2[0][0]+contingency_table_2x2[0][1]+contingency_table_2x2[1][0]+contingency_table_2x2[1][1]\n",
    "\n",
    "#1st method\n",
    "\n",
    "\n",
    "a=contingency_table_2x2[0][0]\n",
    "b=contingency_table_2x2[0][1]\n",
    "c=contingency_table_2x2[1][0]\n",
    "d=contingency_table_2x2[1][1]\n",
    "\n",
    "\n",
    "\n",
    "chi_sq_calc=(N*((a*d)-(b*c))**2)/((a+b)*(c+d)*(a+c)*(b+d))\n",
    "print(chi_sq_calc)\n",
    "\n",
    "\n",
    "chi_sq_tab=2.706  #for alpha=10% and d.f=1 chi square tabulated=2.706\n",
    "\n",
    "if chi_sq_calc<=chi_sq_tab:\n",
    "  print(\"accept Ho , therefore the proportions are equal\")\n",
    "else:\n",
    "  print(\"reject Ho, accept H1 . therefore the proportions are not equal\")\n"
   ]
  },
  {
   "cell_type": "code",
   "execution_count": 15,
   "metadata": {},
   "outputs": [
    {
     "name": "stdout",
     "output_type": "stream",
     "text": [
      "[[126.97297297297297, 107.02702702702703], [134.02702702702703, 112.97297297297297]]\n",
      "1.1963006247186507\n",
      "accept Ho , therefore the proportions are equal\n"
     ]
    }
   ],
   "source": [
    "#2nd method\n",
    "\n",
    "expected_values = [[0, 0], [0, 0]]\n",
    "\n",
    "for i in range(2):  # Iterate through rows\n",
    "    row_sum = sum(contingency_table_2x2[i])  # Calculate row sum\n",
    "    for j in range(2):  # Iterate through columns\n",
    "        col_sum = sum(row[j] for row in contingency_table_2x2)  # Calculate column sum\n",
    "        expected_values[i][j] = (row_sum * col_sum) / N  # Compute expected value\n",
    "\n",
    "print(expected_values)\n",
    "chi_cal=0\n",
    "for i in range(2):\n",
    "   for j in range(2):\n",
    "      chi_cal=chi_cal+((contingency_table_2x2[i][j]-expected_values[i][j])**2/expected_values[i][j])\n",
    "\n",
    "\n",
    "print(chi_cal)\n",
    "\n",
    "\n",
    "chi_sq_tab=2.706  #df=1 alpha=0.1\n",
    "\n",
    "if chi_cal<=chi_sq_tab:\n",
    "  print(\"accept Ho , therefore the proportions are equal\")\n",
    "else:\n",
    "  print(\"reject Ho, accept H1 . therefore the proportions are not equal\")\n"
   ]
  },
  {
   "cell_type": "code",
   "execution_count": null,
   "metadata": {},
   "outputs": [],
   "source": []
  }
 ],
 "metadata": {
  "kernelspec": {
   "display_name": "Python 3",
   "language": "python",
   "name": "python3"
  },
  "language_info": {
   "codemirror_mode": {
    "name": "ipython",
    "version": 3
   },
   "file_extension": ".py",
   "mimetype": "text/x-python",
   "name": "python",
   "nbconvert_exporter": "python",
   "pygments_lexer": "ipython3",
   "version": "3.10.5"
  }
 },
 "nbformat": 4,
 "nbformat_minor": 2
}
