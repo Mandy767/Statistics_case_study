{
 "cells": [
  {
   "cell_type": "markdown",
   "metadata": {},
   "source": [
    "## **2x2 contigency (Yates Correction)**\n",
    "Problem Statement:\n",
    "Analyze the relationship between teams' wins and losses in cricket matches based on the data provided in the 'matches_won.csv' file. Specifically, determine whether there is a significant association between the teams' performance (wins and losses) in the dataset.\n",
    "\n",
    "Hypothesis:\n",
    "\n",
    "Ho: proportions are same\n",
    "\n",
    "H1: proportions are not same"
   ]
  },
  {
   "cell_type": "code",
   "execution_count": 6,
   "metadata": {},
   "outputs": [
    {
     "name": "stdout",
     "output_type": "stream",
     "text": [
      "                          Team  Win  lose\n",
      "0  Royal Challengers Bangalore  121   113\n",
      "1               Mumbai Indians  140   107\n"
     ]
    }
   ],
   "source": [
    "import pandas as pd\n",
    "\n",
    "\n",
    "data = pd.read_csv('./data/matches_won.csv')\n",
    "print(data)\n"
   ]
  },
  {
   "cell_type": "code",
   "execution_count": 7,
   "metadata": {},
   "outputs": [
    {
     "name": "stdout",
     "output_type": "stream",
     "text": [
      "[[121 113]\n",
      " [140 107]]\n"
     ]
    }
   ],
   "source": [
    "contingency_table_2x2 = data.iloc[:, 1:].values\n",
    "print(contingency_table_2x2)"
   ]
  },
  {
   "cell_type": "code",
   "execution_count": 8,
   "metadata": {},
   "outputs": [
    {
     "name": "stdout",
     "output_type": "stream",
     "text": [
      "1.0043979953803004\n"
     ]
    }
   ],
   "source": [
    "N=contingency_table_2x2[0][0]+contingency_table_2x2[0][1]+contingency_table_2x2[1][0]+contingency_table_2x2[1][1]\n",
    "\n",
    "#1st method\n",
    "\n",
    "\n",
    "a=contingency_table_2x2[0][0]\n",
    "b=contingency_table_2x2[0][1]\n",
    "c=contingency_table_2x2[1][0]\n",
    "d=contingency_table_2x2[1][1]\n",
    "\n",
    "\n",
    "\n",
    "chi_sq_calc=(N*(abs((a*d)-(b*c))-(N/2))**2)/((a+b)*(c+d)*(a+c)*(b+d))\n",
    "\n",
    "print(chi_sq_calc)"
   ]
  },
  {
   "cell_type": "code",
   "execution_count": 9,
   "metadata": {},
   "outputs": [
    {
     "name": "stdout",
     "output_type": "stream",
     "text": [
      "accept Ho , therefore the proportions are equal\n"
     ]
    }
   ],
   "source": [
    "chi_sq_tab=2.706  #for alpha=10% and d.f=1 chi square tabulated=2.706\n",
    "\n",
    "if chi_sq_calc<=chi_sq_tab:\n",
    "  print(\"accept Ho , therefore the proportions are equal\")\n",
    "else:\n",
    "  print(\"reject Ho, accept H1 . therefore the proportions are not equal\")"
   ]
  },
  {
   "cell_type": "code",
   "execution_count": null,
   "metadata": {},
   "outputs": [],
   "source": []
  }
 ],
 "metadata": {
  "kernelspec": {
   "display_name": "Python 3",
   "language": "python",
   "name": "python3"
  },
  "language_info": {
   "codemirror_mode": {
    "name": "ipython",
    "version": 3
   },
   "file_extension": ".py",
   "mimetype": "text/x-python",
   "name": "python",
   "nbconvert_exporter": "python",
   "pygments_lexer": "ipython3",
   "version": "3.10.5"
  }
 },
 "nbformat": 4,
 "nbformat_minor": 2
}
