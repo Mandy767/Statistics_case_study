{
 "cells": [
  {
   "cell_type": "markdown",
   "metadata": {},
   "source": [
    "## **Chi-square test for independence**\n",
    "\n",
    "A sports analyst is investigating the relationship between different types of wickets taken (such as caught, bowled, LBW, etc.) by a cricket team over several matches. The analyst wants to determine whether there is a significant association between the types of wickets taken and the matches\n",
    "\n",
    "\n",
    "Null Hypothesis (H0): There is no significant association between the types of wickets taken and the matches.\n",
    "\n",
    "Alternative Hypothesis (H1): There is a significant association between the types of wickets taken and the matches.\n",
    "\n"
   ]
  },
  {
   "cell_type": "code",
   "execution_count": 11,
   "metadata": {},
   "outputs": [
    {
     "name": "stdout",
     "output_type": "stream",
     "text": [
      "                          Team  caught  bowled  run out  lbw  retired hurt  \\\n",
      "0  Royal Challengers Bangalore     845     272      118   80             0   \n",
      "1               Mumbai Indians     933     230      123  106             7   \n",
      "2        Kolkata Knight Riders     890     232      123   97             1   \n",
      "\n",
      "   stumped  caught and bowled  hit wicket  \n",
      "0       36                 31           2  \n",
      "1       34                 42           2  \n",
      "2       36                 34           1  \n"
     ]
    }
   ],
   "source": [
    "import pandas as pd\n",
    "import math\n",
    "\n",
    "data = pd.read_csv('./data/wicket_counts.csv')\n",
    "\n",
    "\n",
    "print(data)\n"
   ]
  },
  {
   "cell_type": "code",
   "execution_count": 12,
   "metadata": {},
   "outputs": [
    {
     "name": "stdout",
     "output_type": "stream",
     "text": [
      "[[845 272 118  80   0  36  31   2]\n",
      " [933 230 123 106   7  34  42   2]\n",
      " [890 232 123  97   1  36  34   1]]\n"
     ]
    }
   ],
   "source": [
    "\n",
    "table = data.iloc[:, 1:].values\n",
    "print(table)\n"
   ]
  },
  {
   "cell_type": "code",
   "execution_count": 13,
   "metadata": {},
   "outputs": [
    {
     "name": "stdout",
     "output_type": "stream",
     "text": [
      "[[863.7454970760234, 237.62713450292398, 117.84233918128655, 91.6191812865497, 2.5899415204678364, 34.31672514619883, 34.64046783625731, 1.6187134502923977], [921.7861988304094, 253.5948538011696, 125.76093567251462, 97.77567251461988, 2.7639766081871344, 36.622690058479535, 36.96818713450293, 1.727485380116959], [882.4683040935672, 242.77801169590643, 120.39672514619883, 93.60514619883041, 2.646081871345029, 35.06058479532164, 35.391345029239766, 1.6538011695906434]]\n",
      "chi_sq_cal : 22.573933030498974\n"
     ]
    }
   ],
   "source": [
    "N=sum(sum(row) for row in table)\n",
    "expected_values = [[0,0,0,0,0,0,0,0],[0,0,0,0,0,0,0,0],[0,0,0,0,0,0,0,0]]\n",
    "\n",
    "for i in range(3):  # Iterate through rows\n",
    "    row_sum = sum(table[i])  # Calculate row sum\n",
    "    for j in range(8):  # Iterate through columns\n",
    "        col_sum = sum(row[j] for row in table)  # Calculate column sum\n",
    "        expected_values[i][j] = (row_sum * col_sum) / N  # Compute expected value\n",
    "\n",
    "print(expected_values)\n",
    "chi_sq_cal=0\n",
    "for i in range(3):\n",
    "   for j in range(8):\n",
    "      chi_sq_cal=chi_sq_cal+((table[i][j]-expected_values[i][j])**2/expected_values[i][j])\n",
    "\n",
    "\n",
    "print(f'chi_sq_cal : {chi_sq_cal}')  "
   ]
  },
  {
   "cell_type": "code",
   "execution_count": 14,
   "metadata": {},
   "outputs": [
    {
     "name": "stdout",
     "output_type": "stream",
     "text": [
      "reject Ho, accept H1\n"
     ]
    }
   ],
   "source": [
    "chi_sq_tab=21.064                       #R=3 , C=8 d.f = 2 x 7 =14 at alpha = 10% chi square  tabulated= 21.064\n",
    "\n",
    "if chi_sq_cal<=chi_sq_tab:\n",
    "  print(\"accept Ho\")\n",
    "else:\n",
    "  print(\"reject Ho, accept H1\")\n"
   ]
  },
  {
   "cell_type": "code",
   "execution_count": null,
   "metadata": {},
   "outputs": [],
   "source": []
  }
 ],
 "metadata": {
  "kernelspec": {
   "display_name": "Python 3",
   "language": "python",
   "name": "python3"
  },
  "language_info": {
   "codemirror_mode": {
    "name": "ipython",
    "version": 3
   },
   "file_extension": ".py",
   "mimetype": "text/x-python",
   "name": "python",
   "nbconvert_exporter": "python",
   "pygments_lexer": "ipython3",
   "version": "3.10.5"
  }
 },
 "nbformat": 4,
 "nbformat_minor": 2
}
