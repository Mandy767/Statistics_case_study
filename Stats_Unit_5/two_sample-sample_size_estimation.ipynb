{
 "cells": [
  {
   "cell_type": "markdown",
   "metadata": {},
   "source": [
    "## **Two sample -sample size estimation**\n",
    "\n",
    "we are finding if there is significant difference between the Total runs scored by RCB in the years 2022 and 2023. for this we need to estimate the sample size . we want confidence level of 99% and range of error less than 5. given estimated standard deviation is 63\n",
    "\n",
    "Z_tabulated for 99% confidence level is 2.326\n",
    "\n",
    "1-beta=90% , Zbeta=1.282\n"
   ]
  },
  {
   "cell_type": "code",
   "execution_count": 2,
   "metadata": {},
   "outputs": [
    {
     "name": "stdout",
     "output_type": "stream",
     "text": [
      "total sample size should be: 41333.6867328\n",
      "sample size of each group should be :  20666.8433664\n"
     ]
    }
   ],
   "source": [
    "std_dev=63\n",
    "Z_alpha=2.326\n",
    "Z_beta=1.282\n",
    "E=5\n",
    "\n",
    "N=4*std_dev**2*(Z_alpha+Z_beta)**2/E\n",
    "\n",
    "print(\"total sample size should be:\",N)\n",
    "print(\"sample size of each group should be : \" ,N/2)"
   ]
  },
  {
   "cell_type": "code",
   "execution_count": null,
   "metadata": {},
   "outputs": [],
   "source": []
  }
 ],
 "metadata": {
  "kernelspec": {
   "display_name": "Python 3",
   "language": "python",
   "name": "python3"
  },
  "language_info": {
   "codemirror_mode": {
    "name": "ipython",
    "version": 3
   },
   "file_extension": ".py",
   "mimetype": "text/x-python",
   "name": "python",
   "nbconvert_exporter": "python",
   "pygments_lexer": "ipython3",
   "version": "3.10.5"
  }
 },
 "nbformat": 4,
 "nbformat_minor": 2
}
