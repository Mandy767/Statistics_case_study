{
 "cells": [
  {
   "cell_type": "markdown",
   "metadata": {},
   "source": [
    "## **Proportion test 2 sample - sample size estimation**\n",
    "\n",
    "\n",
    "The expected proportion of number of matches won during the year 2022 and by a margin of 20 runs was 24% and similiarily it was 22% during the year 2023 . A study is required to show the difference at 1% lvl of significance and power of 80% . for this we first need to calculate the adequate sample size -  \n",
    "\n",
    "Given :\n",
    "\n",
    "alpha= 5% , therefore Z (1-alpha/2) = 1.96\n",
    "\n",
    "beta=1-80% = 0.2 , therefore Z (1-beta)= 0.84"
   ]
  },
  {
   "cell_type": "code",
   "execution_count": 1,
   "metadata": {},
   "outputs": [
    {
     "name": "stdout",
     "output_type": "stream",
     "text": [
      "Total sample size required is :  13884.640000000012\n",
      "Sample size required by each group is :  6942.320000000006\n"
     ]
    }
   ],
   "source": [
    "Z_alpha = 1.96\n",
    "Z_beta = 0.84\n",
    "p1 = 0.24\n",
    "p2 = 0.22\n",
    "\n",
    "N=(4*((Z_alpha+Z_beta)**2)*((p1+p2)/2)*(1-((p1+p2)/2)))/((p1-p2)**2)\n",
    "\n",
    "print(\"Total sample size required is : \",N)\n",
    "print(\"Sample size required by each group is : \",N/2 )"
   ]
  },
  {
   "cell_type": "code",
   "execution_count": null,
   "metadata": {},
   "outputs": [],
   "source": []
  }
 ],
 "metadata": {
  "kernelspec": {
   "display_name": "Python 3",
   "language": "python",
   "name": "python3"
  },
  "language_info": {
   "codemirror_mode": {
    "name": "ipython",
    "version": 3
   },
   "file_extension": ".py",
   "mimetype": "text/x-python",
   "name": "python",
   "nbconvert_exporter": "python",
   "pygments_lexer": "ipython3",
   "version": "3.10.5"
  }
 },
 "nbformat": 4,
 "nbformat_minor": 2
}
