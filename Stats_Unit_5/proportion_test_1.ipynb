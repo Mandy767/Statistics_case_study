{
 "cells": [
  {
   "cell_type": "markdown",
   "metadata": {},
   "source": [
    "## **Proportion test 1 sample - sample size estimation**\n",
    "\n",
    "Suppose you want to estimate the proportion of matches in the 2023 IPL season that were won by the team batting first. Previous records indicate that approximately 60% of matches were won by the team batting first. You aim to calculate the sample size required at a 95% confidence level with an error margin of 5%."
   ]
  },
  {
   "cell_type": "code",
   "execution_count": 1,
   "metadata": {},
   "outputs": [
    {
     "name": "stdout",
     "output_type": "stream",
     "text": [
      "sample size should be: 368.7935999999999\n"
     ]
    }
   ],
   "source": [
    "Z=1.960\n",
    "p=0.60\n",
    "q=1-p\n",
    "E=0.05\n",
    "\n",
    "n=((Z**2)*(p*q))/(E**2)\n",
    "\n",
    "print(\"sample size should be:\",n)"
   ]
  },
  {
   "cell_type": "code",
   "execution_count": null,
   "metadata": {},
   "outputs": [],
   "source": []
  }
 ],
 "metadata": {
  "kernelspec": {
   "display_name": "Python 3",
   "language": "python",
   "name": "python3"
  },
  "language_info": {
   "codemirror_mode": {
    "name": "ipython",
    "version": 3
   },
   "file_extension": ".py",
   "mimetype": "text/x-python",
   "name": "python",
   "nbconvert_exporter": "python",
   "pygments_lexer": "ipython3",
   "version": "3.10.5"
  }
 },
 "nbformat": 4,
 "nbformat_minor": 2
}
