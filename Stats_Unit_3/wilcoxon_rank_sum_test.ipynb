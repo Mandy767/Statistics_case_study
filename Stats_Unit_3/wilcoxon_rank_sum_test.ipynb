{
 "cells": [
  {
   "cell_type": "markdown",
   "metadata": {},
   "source": [
    "# **Wilcoxon rank sum test**\n",
    "\n",
    "H0: There is no significant difference in runs scored by CSK and GT\n",
    "\n",
    "H1: There is significant difference in runs scored by CSK and GT\n",
    "\n",
    "alpha=1%"
   ]
  },
  {
   "cell_type": "code",
   "execution_count": 34,
   "metadata": {},
   "outputs": [
    {
     "name": "stdout",
     "output_type": "stream",
     "text": [
      "CSK scores :  [178 217 159 172 226 138 235 170 200 140 167 144 223 172 171]\n",
      "GT scores :  [182 163 204 154 177 135 207 180 125 119 227 191 188 198 157 233 214]\n",
      "[119 125 135 138 140 144 154 157 159 163 167 170 171 172 172 177 178 180\n",
      " 182 188 191 198 200 204 207 214 217 223 226 227 233 235]\n"
     ]
    }
   ],
   "source": [
    "import pandas as pd\n",
    "from scipy.stats import ranksums\n",
    "import numpy as np\n",
    "import math\n",
    "\n",
    "\n",
    "data = pd.read_csv(\"./data/runs_scored_2023_csk_gt.csv\")\n",
    "\n",
    "\n",
    "csk_scores = data[\"Chennai Super Kings\"].iloc[:15].values\n",
    "gt_scores = data[\"Gujarat Titans\"].values\n",
    "\n",
    "print(\"CSK scores : \",csk_scores)\n",
    "print(\"GT scores : \",gt_scores)\n",
    "\n",
    "\n",
    "\n",
    "combined_data = np.concatenate((csk_scores, gt_scores))\n",
    "combined_data.sort()\n",
    "\n",
    "print(combined_data)\n",
    "\n",
    "\n",
    "\n"
   ]
  },
  {
   "cell_type": "code",
   "execution_count": 35,
   "metadata": {},
   "outputs": [
    {
     "name": "stdout",
     "output_type": "stream",
     "text": [
      "{119: 1, 125: 2, 135: 3, 138: 4, 140: 5, 144: 6, 154: 7, 157: 8, 159: 9, 163: 10, 167: 11, 170: 12, 171: 13, 172: 15, 177: 16, 178: 17, 180: 18, 182: 19, 188: 20, 191: 21, 198: 22, 200: 23, 204: 24, 207: 25, 214: 26, 217: 27, 223: 28, 226: 29, 227: 30, 233: 31, 235: 32}\n"
     ]
    }
   ],
   "source": [
    "ranks = np.argsort(combined_data).argsort() + 1\n",
    "\n",
    "key_value_pairs = dict(zip(combined_data, ranks))\n",
    "\n",
    "print(key_value_pairs)\n",
    "\n"
   ]
  },
  {
   "cell_type": "code",
   "execution_count": 36,
   "metadata": {},
   "outputs": [
    {
     "name": "stdout",
     "output_type": "stream",
     "text": [
      "Sum of Ranks for csk_scores: 246\n",
      "Sum of Ranks for gt_scores: 283\n"
     ]
    }
   ],
   "source": [
    "sum_ranks_csk = 0\n",
    "for score in csk_scores:\n",
    "    rank = key_value_pairs.get(score)\n",
    "    if rank is not None:\n",
    "        sum_ranks_csk += rank\n",
    "\n",
    "sum_ranks_gt = 0\n",
    "for score in gt_scores:\n",
    "    rank = key_value_pairs.get(score)\n",
    "    if rank is not None:\n",
    "        sum_ranks_gt += rank\n",
    "\n",
    "print(\"Sum of Ranks for csk_scores:\", sum_ranks_csk)\n",
    "print(\"Sum of Ranks for gt_scores:\", sum_ranks_gt)"
   ]
  },
  {
   "cell_type": "code",
   "execution_count": 37,
   "metadata": {},
   "outputs": [
    {
     "name": "stdout",
     "output_type": "stream",
     "text": [
      "15\n"
     ]
    }
   ],
   "source": [
    "n=min(len(csk_scores),len(gt_scores))\n",
    "print(n)"
   ]
  },
  {
   "cell_type": "code",
   "execution_count": 38,
   "metadata": {},
   "outputs": [
    {
     "name": "stdout",
     "output_type": "stream",
     "text": [
      "Mu_R is : 247.5\n"
     ]
    }
   ],
   "source": [
    "R=sum_ranks_csk\n",
    "n1=len(csk_scores)\n",
    "n2=len(gt_scores)\n",
    "\n",
    "Mu_R=(n*(n1+n2+1))/2\n",
    "\n",
    "print(\"Mu_R is :\",Mu_R)"
   ]
  },
  {
   "cell_type": "code",
   "execution_count": 39,
   "metadata": {},
   "outputs": [
    {
     "name": "stdout",
     "output_type": "stream",
     "text": [
      "Sigma R is : 26.48112535373072\n"
     ]
    }
   ],
   "source": [
    "\n",
    "Sigma_R=math.sqrt(((n1*n2)*(n1+n2+1))/12)\n",
    "\n",
    "print(\"Sigma R is :\" , Sigma_R)"
   ]
  },
  {
   "cell_type": "code",
   "execution_count": 40,
   "metadata": {},
   "outputs": [
    {
     "name": "stdout",
     "output_type": "stream",
     "text": [
      "-0.05664411840370207\n"
     ]
    }
   ],
   "source": [
    "Z_cal=(R-Mu_R)/(Sigma_R)\n",
    "print(Z_cal)"
   ]
  },
  {
   "cell_type": "code",
   "execution_count": 41,
   "metadata": {},
   "outputs": [
    {
     "name": "stdout",
     "output_type": "stream",
     "text": [
      "Accept H0\n"
     ]
    }
   ],
   "source": [
    "Z_tab=2.576 #at alpha=1% and 2 tail test , Z_tabulated value is : 2.576\n",
    "\n",
    "if abs(Z_cal)<=Z_tab:\n",
    "  print(\"Accept H0\")\n",
    "else:\n",
    "  print(\"Reject H0, Accept H1\")"
   ]
  },
  {
   "cell_type": "code",
   "execution_count": null,
   "metadata": {},
   "outputs": [],
   "source": []
  }
 ],
 "metadata": {
  "kernelspec": {
   "display_name": "Python 3",
   "language": "python",
   "name": "python3"
  },
  "language_info": {
   "codemirror_mode": {
    "name": "ipython",
    "version": 3
   },
   "file_extension": ".py",
   "mimetype": "text/x-python",
   "name": "python",
   "nbconvert_exporter": "python",
   "pygments_lexer": "ipython3",
   "version": "3.10.5"
  },
  "orig_nbformat": 4
 },
 "nbformat": 4,
 "nbformat_minor": 2
}
