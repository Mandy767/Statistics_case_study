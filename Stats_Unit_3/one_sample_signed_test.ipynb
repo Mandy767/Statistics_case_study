{
 "cells": [
  {
   "cell_type": "markdown",
   "metadata": {},
   "source": [
    "## **Runs Test:**"
   ]
  },
  {
   "cell_type": "markdown",
   "metadata": {},
   "source": [
    "## **n<=26**\n",
    "\n",
    "H0: median of number of runs of matches in 2023 season of IPL is 160\n",
    "\n",
    "H1: median of number of runs of matches in 2023 season of IPL is not 160\n",
    "\n",
    "\n",
    "\n"
   ]
  },
  {
   "cell_type": "code",
   "execution_count": 43,
   "metadata": {},
   "outputs": [],
   "source": [
    "import pandas as pd\n",
    "import copy\n",
    "import math"
   ]
  },
  {
   "cell_type": "code",
   "execution_count": 44,
   "metadata": {},
   "outputs": [
    {
     "name": "stdout",
     "output_type": "stream",
     "text": [
      "0      178\n",
      "1      182\n",
      "2      191\n",
      "3      146\n",
      "4      193\n",
      "      ... \n",
      "142    182\n",
      "143    233\n",
      "144    171\n",
      "145    171\n",
      "146    214\n",
      "Name: Runs Scored, Length: 147, dtype: int64\n"
     ]
    }
   ],
   "source": [
    "data=pd.read_csv('./data/runs_scored.csv')\n",
    "\n",
    "data.head()\n",
    "\n",
    "print(data['Runs Scored'])\n",
    "\n"
   ]
  },
  {
   "cell_type": "code",
   "execution_count": 45,
   "metadata": {},
   "outputs": [
    {
     "name": "stdout",
     "output_type": "stream",
     "text": [
      "[178, 182, 191, 146, 193, 143, 203, 131, 171, 172, 217, 205, 163, 162, 197]\n"
     ]
    }
   ],
   "source": [
    "runs=[]\n",
    "for i in data['Runs Scored']:\n",
    "    runs.append(i)\n",
    "\n",
    "sample_runs=runs[:15]\n",
    "\n",
    "print(sample_runs)\n",
    "\n",
    "sample_runs_copy=copy.deepcopy(sample_runs)"
   ]
  },
  {
   "cell_type": "code",
   "execution_count": 46,
   "metadata": {},
   "outputs": [
    {
     "name": "stdout",
     "output_type": "stream",
     "text": [
      "['+', '+', '+', '-', '+', '-', '+', '-', '+', '+', '+', '+', '+', '+', '+']\n"
     ]
    }
   ],
   "source": [
    "given_median=160\n",
    "\n",
    "signs_array=[]\n",
    "\n",
    "for i in sample_runs:\n",
    "  if i>given_median:\n",
    "    signs_array.append('+')\n",
    "  elif i<given_median:\n",
    "    signs_array.append('-')\n",
    "  else:\n",
    "    signs_array.append('0')\n",
    "\n",
    "print(signs_array)"
   ]
  },
  {
   "cell_type": "code",
   "execution_count": 47,
   "metadata": {},
   "outputs": [
    {
     "name": "stdout",
     "output_type": "stream",
     "text": [
      "no of positives : 12\n",
      "no of negatives : 3\n",
      "test value : 3\n"
     ]
    }
   ],
   "source": [
    "positive_count=signs_array.count('+')\n",
    "negative_count=signs_array.count('-')\n",
    "\n",
    "test_val=min(positive_count,negative_count)\n",
    "\n",
    "print(f'no of positives : {positive_count}')\n",
    "print(f'no of negatives : {negative_count}')\n",
    "\n",
    "print(f'test value : {test_val}')"
   ]
  },
  {
   "cell_type": "code",
   "execution_count": 48,
   "metadata": {},
   "outputs": [
    {
     "name": "stdout",
     "output_type": "stream",
     "text": [
      "accept H0\n"
     ]
    }
   ],
   "source": [
    "critical_val=2 #critical value from the table , for sample size=15 and alpha=1%\n",
    "\n",
    "if test_val<critical_val:\n",
    "  print(\"reject H0 , accept H1\")\n",
    "else:\n",
    "  print(\"accept H0\")"
   ]
  },
  {
   "cell_type": "markdown",
   "metadata": {},
   "source": [
    "## **n>26**\n",
    "\n",
    "H0: median of number of runs of matches in 2023 season of IPL is greater than or equal to 160\n",
    "\n",
    "H1: median of number of runs of matches in 2023 season of IPL is less than 160\n",
    "\n",
    "and in 21 times out of 50 teams have scored more than  160\n",
    "\n",
    "alpha=1% "
   ]
  },
  {
   "cell_type": "code",
   "execution_count": 49,
   "metadata": {},
   "outputs": [
    {
     "name": "stdout",
     "output_type": "stream",
     "text": [
      "[178, 182, 191, 146, 193, 143, 203, 131, 171, 172, 217, 205, 163, 162, 197, 192, 204, 123, 127, 121, 159, 142, 199, 157, 204, 143, 207, 145, 213, 212, 172, 173, 172, 175, 154, 153, 205, 228, 161, 159, 151, 174, 177, 185, 179, 186, 226, 218, 178, 192]\n"
     ]
    }
   ],
   "source": [
    "sample_runs_2=runs[:50]\n",
    "\n",
    "print(sample_runs_2)"
   ]
  },
  {
   "cell_type": "code",
   "execution_count": 53,
   "metadata": {},
   "outputs": [
    {
     "name": "stdout",
     "output_type": "stream",
     "text": [
      "-0.7899999999999998\n",
      "accept H0\n"
     ]
    }
   ],
   "source": [
    "X=21\n",
    "N=50\n",
    "z_cal=((X+0.05)-(N/2))/(math.sqrt(N/2))\n",
    "\n",
    "print(z_cal)\n",
    "\n",
    "z_tab=1.645  #alpha=5%  and its a one tailed test\n",
    "\n",
    "if(abs(z_cal)<z_tab):\n",
    "\n",
    "    print('accept H0')\n",
    "else:\n",
    "    print('reject H0,accept H1')"
   ]
  },
  {
   "cell_type": "code",
   "execution_count": null,
   "metadata": {},
   "outputs": [],
   "source": []
  }
 ],
 "metadata": {
  "kernelspec": {
   "display_name": "Python 3",
   "language": "python",
   "name": "python3"
  },
  "language_info": {
   "codemirror_mode": {
    "name": "ipython",
    "version": 3
   },
   "file_extension": ".py",
   "mimetype": "text/x-python",
   "name": "python",
   "nbconvert_exporter": "python",
   "pygments_lexer": "ipython3",
   "version": "3.10.5"
  },
  "orig_nbformat": 4
 },
 "nbformat": 4,
 "nbformat_minor": 2
}
