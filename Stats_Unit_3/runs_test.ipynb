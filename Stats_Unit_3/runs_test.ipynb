{
 "cells": [
  {
   "cell_type": "markdown",
   "metadata": {},
   "source": [
    "## **Runs Test:**\n",
    "\n",
    "we are using data which contains runs scored by a team in 2023 IPL Season.\n",
    "\n",
    "alpha = 5%\n",
    "\n",
    "H0 : the data was picked randomly\n",
    "\n",
    "H1 : the data was not picked randomly"
   ]
  },
  {
   "cell_type": "code",
   "execution_count": 54,
   "metadata": {},
   "outputs": [],
   "source": [
    "import pandas as pd\n",
    "import copy"
   ]
  },
  {
   "cell_type": "code",
   "execution_count": 55,
   "metadata": {},
   "outputs": [
    {
     "data": {
      "text/html": [
       "<div>\n",
       "<style scoped>\n",
       "    .dataframe tbody tr th:only-of-type {\n",
       "        vertical-align: middle;\n",
       "    }\n",
       "\n",
       "    .dataframe tbody tr th {\n",
       "        vertical-align: top;\n",
       "    }\n",
       "\n",
       "    .dataframe thead th {\n",
       "        text-align: right;\n",
       "    }\n",
       "</style>\n",
       "<table border=\"1\" class=\"dataframe\">\n",
       "  <thead>\n",
       "    <tr style=\"text-align: right;\">\n",
       "      <th></th>\n",
       "      <th>Date</th>\n",
       "      <th>Team</th>\n",
       "      <th>Runs Scored</th>\n",
       "    </tr>\n",
       "  </thead>\n",
       "  <tbody>\n",
       "    <tr>\n",
       "      <th>0</th>\n",
       "      <td>2023-03-31</td>\n",
       "      <td>Chennai Super Kings</td>\n",
       "      <td>178</td>\n",
       "    </tr>\n",
       "    <tr>\n",
       "      <th>1</th>\n",
       "      <td>2023-03-31</td>\n",
       "      <td>Gujarat Titans</td>\n",
       "      <td>182</td>\n",
       "    </tr>\n",
       "    <tr>\n",
       "      <th>2</th>\n",
       "      <td>2023-04-01</td>\n",
       "      <td>Punjab Kings</td>\n",
       "      <td>191</td>\n",
       "    </tr>\n",
       "    <tr>\n",
       "      <th>3</th>\n",
       "      <td>2023-04-01</td>\n",
       "      <td>Kolkata Knight Riders</td>\n",
       "      <td>146</td>\n",
       "    </tr>\n",
       "    <tr>\n",
       "      <th>4</th>\n",
       "      <td>2023-04-01</td>\n",
       "      <td>Lucknow Super Giants</td>\n",
       "      <td>193</td>\n",
       "    </tr>\n",
       "  </tbody>\n",
       "</table>\n",
       "</div>"
      ],
      "text/plain": [
       "         Date                   Team  Runs Scored\n",
       "0  2023-03-31    Chennai Super Kings          178\n",
       "1  2023-03-31         Gujarat Titans          182\n",
       "2  2023-04-01           Punjab Kings          191\n",
       "3  2023-04-01  Kolkata Knight Riders          146\n",
       "4  2023-04-01   Lucknow Super Giants          193"
      ]
     },
     "execution_count": 55,
     "metadata": {},
     "output_type": "execute_result"
    }
   ],
   "source": [
    "data=pd.read_csv('./data/runs_scored.csv')\n",
    "\n",
    "data.head()"
   ]
  },
  {
   "cell_type": "code",
   "execution_count": 56,
   "metadata": {},
   "outputs": [
    {
     "name": "stdout",
     "output_type": "stream",
     "text": [
      "0      178\n",
      "1      182\n",
      "2      191\n",
      "3      146\n",
      "4      193\n",
      "      ... \n",
      "142    182\n",
      "143    233\n",
      "144    171\n",
      "145    171\n",
      "146    214\n",
      "Name: Runs Scored, Length: 147, dtype: int64\n"
     ]
    }
   ],
   "source": [
    "print(data['Runs Scored'])"
   ]
  },
  {
   "cell_type": "code",
   "execution_count": 57,
   "metadata": {},
   "outputs": [
    {
     "name": "stdout",
     "output_type": "stream",
     "text": [
      "[178, 182, 191, 146, 193, 143, 203, 131, 171, 172, 217, 205, 163, 162, 197, 192, 204, 123, 127, 121, 159, 142, 199, 157, 204, 143, 207, 145, 213, 212]\n"
     ]
    }
   ],
   "source": [
    "runs=[]\n",
    "for i in data['Runs Scored']:\n",
    "    runs.append(i)\n",
    "\n",
    "sample_runs=runs[:30]\n",
    "\n",
    "print(sample_runs)\n",
    "\n",
    "sample_runs_copy=copy.deepcopy(sample_runs)\n",
    "\n"
   ]
  },
  {
   "cell_type": "code",
   "execution_count": 58,
   "metadata": {},
   "outputs": [
    {
     "name": "stdout",
     "output_type": "stream",
     "text": [
      "[121, 123, 127, 131, 142, 143, 143, 145, 146, 157, 159, 162, 163, 171, 172, 178, 182, 191, 192, 193, 197, 199, 203, 204, 204, 205, 207, 212, 213, 217]\n"
     ]
    }
   ],
   "source": [
    "sample_runs.sort()\n",
    "print(sample_runs)"
   ]
  },
  {
   "cell_type": "code",
   "execution_count": 59,
   "metadata": {},
   "outputs": [
    {
     "name": "stdout",
     "output_type": "stream",
     "text": [
      "median : 178\n",
      "the runs sequence is : ['0', 'A', 'A', 'B', 'A', 'B', 'A', 'B', 'B', 'B', 'A', 'A', 'B', 'B', 'A', 'A', 'A', 'B', 'B', 'B', 'B', 'B', 'A', 'B', 'A', 'B', 'A', 'B', 'A', 'A']\n"
     ]
    }
   ],
   "source": [
    "median_index=len(sample_runs)//2\n",
    "median=sample_runs[median_index]\n",
    "\n",
    "print(f'median : {median}')\n",
    "\n",
    "runs=[]\n",
    "\n",
    "for i in sample_runs_copy:\n",
    "  if i>median:\n",
    "    runs.append('A')\n",
    "  elif i<median:\n",
    "    runs.append('B')\n",
    "  else:\n",
    "    runs.append('0')\n",
    "\n",
    "print(\"the runs sequence is :\",runs)\n",
    "\n",
    "a_count=runs.count('A')\n",
    "b_count=runs.count('B')\n",
    "zero_count=runs.count('0')\n"
   ]
  },
  {
   "cell_type": "code",
   "execution_count": 60,
   "metadata": {},
   "outputs": [
    {
     "name": "stdout",
     "output_type": "stream",
     "text": [
      "number of runs is : 17\n",
      "number of zeros in runs sequence is : 1\n",
      "number of As are : 14\n",
      "number of Bs are : 15\n"
     ]
    }
   ],
   "source": [
    "beg=runs[0]\n",
    "num_runs=0\n",
    "num_zero=0\n",
    "num_A=0\n",
    "num_B=0\n",
    "for i in runs:\n",
    "  if i=='A':\n",
    "    num_A+=1\n",
    "  elif i=='B':\n",
    "    num_B+=1\n",
    "\n",
    "  if i == beg and i!='0':\n",
    "    continue\n",
    "  elif i==beg and i=='0':\n",
    "    beg=i\n",
    "    num_zero+=1\n",
    "  elif i!=beg and i!='0':\n",
    "    num_runs+=1\n",
    "    beg=i\n",
    "  elif i!=beg and i=='0':\n",
    "    num_runs+=1\n",
    "    num_zero+=1\n",
    "    beg=i\n",
    "  else:\n",
    "    print(\"exception case\")\n",
    "\n",
    "print(\"number of runs is :\",num_runs)\n",
    "print(\"number of zeros in runs sequence is :\",zero_count)\n",
    "print(\"number of As are :\",a_count)\n",
    "print(\"number of Bs are :\",b_count)"
   ]
  },
  {
   "cell_type": "code",
   "execution_count": 61,
   "metadata": {},
   "outputs": [
    {
     "name": "stdout",
     "output_type": "stream",
     "text": [
      "Accept H0, the data was selected randomly\n"
     ]
    }
   ],
   "source": [
    "#n1=14 and n2=15 , using the table for alpha=5% we get r1 and r2 as : 9, 22\n",
    "r1=9\n",
    "r2=22 \n",
    "\n",
    "if r1<=num_runs<=r2:\n",
    "  print(\"Accept H0, the data was selected randomly\")\n",
    "else:\n",
    "  print(\"Reject H0, Accept H1 , the data was not picked randomly\")"
   ]
  },
  {
   "cell_type": "code",
   "execution_count": null,
   "metadata": {},
   "outputs": [],
   "source": []
  }
 ],
 "metadata": {
  "kernelspec": {
   "display_name": "Python 3",
   "language": "python",
   "name": "python3"
  },
  "language_info": {
   "codemirror_mode": {
    "name": "ipython",
    "version": 3
   },
   "file_extension": ".py",
   "mimetype": "text/x-python",
   "name": "python",
   "nbconvert_exporter": "python",
   "pygments_lexer": "ipython3",
   "version": "3.10.5"
  },
  "orig_nbformat": 4
 },
 "nbformat": 4,
 "nbformat_minor": 2
}
