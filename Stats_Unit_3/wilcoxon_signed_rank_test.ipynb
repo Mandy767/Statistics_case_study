{
 "cells": [
  {
   "cell_type": "markdown",
   "metadata": {},
   "source": [
    "# **Wilcoxon Sign Rank test**\n",
    "\n",
    "# **Case 1 : n<30**\n",
    "\n",
    "H0: There is no difference in the runs scored by different teams in 2022 and 2023 season\n",
    "\n",
    "H1: There is difference in the runs scored by different teams in 2022 and 2023 season\n",
    "\n",
    "alpha=5%\n",
    "\n",
    "calculating 95% confidence interval"
   ]
  },
  {
   "cell_type": "code",
   "execution_count": 8,
   "metadata": {},
   "outputs": [
    {
     "name": "stdout",
     "output_type": "stream",
     "text": [
      "0   -424\n",
      "1   -240\n",
      "2   -728\n",
      "3    159\n",
      "4    130\n",
      "5   -213\n",
      "6     69\n",
      "7   -391\n",
      "8    524\n",
      "9   -179\n",
      "dtype: int64\n"
     ]
    }
   ],
   "source": [
    "import pandas as pd\n",
    "import copy\n",
    "import numpy as np\n",
    "\n",
    "data = pd.read_csv('./data/runs_scored_2022_2023.csv')\n",
    "\n",
    "\n",
    "differences = data['2022 Runs Scored'] - data['2023 Runs Scored']\n",
    "\n",
    "print(differences)"
   ]
  },
  {
   "cell_type": "code",
   "execution_count": 9,
   "metadata": {},
   "outputs": [
    {
     "name": "stdout",
     "output_type": "stream",
     "text": [
      "[424, 240, 728, 159, 130, 213, 69, 391, 524, 179]\n"
     ]
    }
   ],
   "source": [
    "absolute_difference=[]\n",
    "\n",
    "for i in differences:\n",
    "    absolute_difference.append(abs(i))\n",
    "\n",
    "print(absolute_difference)\n",
    "\n",
    "absolute_difference_copy=copy.deepcopy(absolute_difference)"
   ]
  },
  {
   "cell_type": "code",
   "execution_count": 10,
   "metadata": {},
   "outputs": [
    {
     "name": "stdout",
     "output_type": "stream",
     "text": [
      "{69: 1, 130: 2, 159: 3, 179: 4, 213: 5, 240: 6, 391: 7, 424: 8, 524: 9, 728: 10}\n"
     ]
    }
   ],
   "source": [
    "absolute_difference.sort()\n",
    "\n",
    "ranks = np.argsort(absolute_difference).argsort() + 1\n",
    "\n",
    "key_value_pairs = dict(zip(absolute_difference, ranks))\n",
    "\n",
    "print(key_value_pairs)"
   ]
  },
  {
   "cell_type": "code",
   "execution_count": 11,
   "metadata": {},
   "outputs": [
    {
     "name": "stdout",
     "output_type": "stream",
     "text": [
      "[-8, -6, -10, 3, 2, -5, 1, -7, 9, -4]\n"
     ]
    }
   ],
   "source": [
    "signed_ranks=[]\n",
    "\n",
    "for i in differences:\n",
    "    if(i<0):\n",
    "        signed_ranks.append(-key_value_pairs.get(abs(i))) \n",
    "    elif(i>0):\n",
    "        signed_ranks.append(key_value_pairs.get(abs(i))) \n",
    "    \n",
    "print(signed_ranks)"
   ]
  },
  {
   "cell_type": "code",
   "execution_count": 14,
   "metadata": {},
   "outputs": [
    {
     "name": "stdout",
     "output_type": "stream",
     "text": [
      "sum of positive : 15\n",
      "sum of negative : -40\n",
      "Wilcoxon statistics :  15\n"
     ]
    }
   ],
   "source": [
    "sum_of_positive=0\n",
    "sum_of_negative=0\n",
    "\n",
    "for i in signed_ranks:\n",
    "    if(i<0):\n",
    "        sum_of_negative+=i\n",
    "    else:\n",
    "        sum_of_positive+=i\n",
    "\n",
    "W_s=min(sum_of_positive,abs(sum_of_negative))\n",
    "\n",
    "print(\"sum of positive :\",sum_of_positive)\n",
    "print(\"sum of negative :\",sum_of_negative)\n",
    "\n",
    "print(\"Wilcoxon statistics : \",W_s)"
   ]
  },
  {
   "cell_type": "code",
   "execution_count": 17,
   "metadata": {},
   "outputs": [
    {
     "name": "stdout",
     "output_type": "stream",
     "text": [
      "Accept H0\n"
     ]
    }
   ],
   "source": [
    "w_tabulated= 5   # w_tabulated at alpha = 5% and 2 tailed test and degrees of freedom=sample_size-1(10-1=9) is 5\n",
    "\n",
    "\n",
    "if W_s>w_tabulated:\n",
    "  print(\"Accept H0\")\n",
    "else:\n",
    "  print(\"Reject H0 , Accept H1\")"
   ]
  }
 ],
 "metadata": {
  "kernelspec": {
   "display_name": "Python 3",
   "language": "python",
   "name": "python3"
  },
  "language_info": {
   "codemirror_mode": {
    "name": "ipython",
    "version": 3
   },
   "file_extension": ".py",
   "mimetype": "text/x-python",
   "name": "python",
   "nbconvert_exporter": "python",
   "pygments_lexer": "ipython3",
   "version": "3.10.5"
  },
  "orig_nbformat": 4
 },
 "nbformat": 4,
 "nbformat_minor": 2
}
